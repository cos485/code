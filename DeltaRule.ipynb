{
 "cells": [
  {
   "cell_type": "markdown",
   "metadata": {},
   "source": [
    "Imports, plotting inline, and random seed"
   ]
  },
  {
   "cell_type": "code",
   "execution_count": null,
   "metadata": {
    "collapsed": true
   },
   "outputs": [],
   "source": [
    "import torch \n",
    "import torchvision\n",
    "import numpy as np\n",
    "import matplotlib.pyplot as plt \n",
    "\n",
    "from IPython import display \n",
    "import time\n",
    "\n",
    "%matplotlib inline\n",
    "plt.rcParams['image.cmap'] = 'gray'\n",
    "np.random.seed(seed=485)"
   ]
  },
  {
   "cell_type": "markdown",
   "metadata": {},
   "source": [
    "Initial values"
   ]
  },
  {
   "cell_type": "code",
   "execution_count": null,
   "metadata": {
    "collapsed": true
   },
   "outputs": [],
   "source": [
    "n = 28*28   # number of image pixels\n",
    "m = 60000   # number of images in training set\n",
    "eta = 0.1  # learning rate parameter\n",
    "epsinit = 0.01  # initial size of synaptic weights\n",
    "w = epsinit*torch.rand(n)   # random initialization of weight vector\n",
    "b = epsinit*torch.rand(1)    # random initialization of bias \n",
    "\n",
    "tmax = 60000           # number of learning updates\n",
    "errcl = torch.zeros(tmax)    # classification error vs. time"
   ]
  },
  {
   "cell_type": "markdown",
   "metadata": {},
   "source": [
    "Set up train and test data."
   ]
  },
  {
   "cell_type": "code",
   "execution_count": null,
   "metadata": {
    "collapsed": true
   },
   "outputs": [],
   "source": [
    "mnist_train = torchvision.datasets.MNIST(root='data', train=True, download=True) # train data only\n",
    "mnist_test = torchvision.datasets.MNIST(root='data', train=False, download=True) # test data only\n",
    "\n",
    "trainindices = torch.randperm(60000)\n",
    "trainimages = mnist_train.train_data[trainindices]\n",
    "trainlabels = mnist_train.train_labels[trainindices]\n",
    "\n",
    "testindices = torch.randperm(10000)\n",
    "testimages = mnist_test.test_data[testindices]\n",
    "testlabels = mnist_test.test_labels[testindices]"
   ]
  },
  {
   "cell_type": "markdown",
   "metadata": {},
   "source": [
    "Functions to visualize training (displays the weight vector, input vector, and running error)."
   ]
  },
  {
   "cell_type": "code",
   "execution_count": null,
   "metadata": {
    "collapsed": true
   },
   "outputs": [],
   "source": [
    "def plot_image(image):\n",
    "    nr, nc = image.shape \n",
    "    extent = [-0.5, nc-0.5, nr-0.5, -0.5] \n",
    "    plt.imshow(image.numpy(), extent=extent, origin='upper', interpolation='nearest') \n",
    "\n",
    "    \n",
    "def visualize(t, errcl, w, x):\n",
    "    errorrate = np.divide(\n",
    "        np.cumsum(errcl[: t + 1]),\n",
    "        range(1, t + 2)\n",
    "    )\n",
    "\n",
    "    display.clear_output(wait=True)\n",
    "\n",
    "    plt.subplot(1, 3, 1)\n",
    "    #plot_image(np.reshape(w, [28, 28]))\n",
    "    plot_image(w.view((28,28)))\n",
    "    plt.title(\"weight vector at t = \" + str(t + 1))\n",
    "\n",
    "    plt.subplot(1, 3, 2)\n",
    "    plot_image(x.view((28,28)))\n",
    "    plt.title(\"input vector\")\n",
    "\n",
    "    plt.subplot(1, 3, 3)\n",
    "    plt.plot(errorrate, color='red')\n",
    "    plt.title(\"average class error = \" + str(errorrate[t]))\n",
    "    plt.ylim(0, 1)\n",
    "\n",
    "    plt.subplots_adjust(wspace=.5)\n",
    "\n",
    "    plt.gcf().set_size_inches(18.5, 10.5)\n",
    "    display.display(plt.gcf())"
   ]
  },
  {
   "cell_type": "markdown",
   "metadata": {},
   "source": [
    "The training loop."
   ]
  },
  {
   "cell_type": "code",
   "execution_count": null,
   "metadata": {
    "scrolled": false
   },
   "outputs": [],
   "source": [
    "for t in range(0, tmax):     # iterate over the train steps\n",
    "    i = torch.floor(m*torch.rand(1)).long()    # choose a random example\n",
    "    x = trainimages[i].view(-1)                # flatten image\n",
    "    x = x.float() / 255.0                      # normalize max value to one \n",
    "    desired = np.float64(trainlabels[i] == 2)  # get true label as a float\n",
    "    actual = np.float64(torch.sum(w*x) + b > 0)\n",
    "    delta = desired - actual\n",
    "    errcl[t] = abs(desired - actual)           # error between true and predicted\n",
    "    w += eta * delta * x                       # weight update\n",
    "    b += eta * delta                           # bias update\n",
    "    if t % 1000 == 0:    # display every 1000 time steps\n",
    "        visualize(t, errcl.numpy(), w, x)        \n",
    "        time.sleep(0.01)    \n",
    "\n",
    "# show final statistics\n",
    "visualize(t, errcl.numpy(), w, x)  \n",
    "display.clear_output(wait=True)"
   ]
  },
  {
   "cell_type": "code",
   "execution_count": null,
   "metadata": {
    "collapsed": true
   },
   "outputs": [],
   "source": []
  }
 ],
 "metadata": {
  "kernelspec": {
   "display_name": "Python 3",
   "language": "python",
   "name": "python3"
  },
  "language_info": {
   "codemirror_mode": {
    "name": "ipython",
    "version": 3
   },
   "file_extension": ".py",
   "mimetype": "text/x-python",
   "name": "python",
   "nbconvert_exporter": "python",
   "pygments_lexer": "ipython3",
   "version": "3.6.3"
  }
 },
 "nbformat": 4,
 "nbformat_minor": 1
}
